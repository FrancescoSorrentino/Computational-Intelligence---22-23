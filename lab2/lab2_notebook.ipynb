{
 "cells": [
  {
   "cell_type": "markdown",
   "metadata": {},
   "source": [
    "# CI - Lab2"
   ]
  },
  {
   "cell_type": "code",
   "execution_count": null,
   "metadata": {},
   "outputs": [],
   "source": [
    "import random\n",
    "import logging\n",
    "import numpy as np\n",
    "from collections import namedtuple"
   ]
  },
  {
   "cell_type": "code",
   "execution_count": null,
   "metadata": {},
   "outputs": [],
   "source": [
    "def problem(N, seed=None):\n",
    "    random.seed(seed)\n",
    "    return [\n",
    "        list(set(random.randint(0, N - 1) for n in range(random.randint(N // 5, N // 2))))\n",
    "        for n in range(random.randint(N, N * 5))\n",
    "    ]"
   ]
  },
  {
   "cell_type": "code",
   "execution_count": 346,
   "metadata": {},
   "outputs": [],
   "source": [
    "def tournament(population, tournament_size=2):\n",
    "    return max(random.choices(population, k=tournament_size), key=lambda i: i.fitness)\n",
    "\n",
    "def w(genome):\n",
    "    return sum(len(_) for _ in genome)\n",
    "\n",
    "def covering(genome):\n",
    "    s = set()\n",
    "    for _ in genome:\n",
    "       s =  s.union(set(_))\n",
    "    return len(s)\n",
    "\n",
    "def intersection(lst1, lst2):\n",
    "    lst3 = [value for value in lst1 if value in lst2]\n",
    "    return lst3\n",
    "\n",
    "def shuffle(g1,g2,g3):\n",
    "    a = [l for l in g1 if l not in g3]\n",
    "    b = [l for l in g2 if l not in g3]\n",
    "    gnew = g3.copy()\n",
    "    \n",
    "    if a:\n",
    "        c = 1\n",
    "    else:\n",
    "        c = 0\n",
    "    for i in range(max(len(a),len(b))):\n",
    "        if c :\n",
    "            if a and i < len(a):\n",
    "                gnew.append(a[i])\n",
    "            if b:\n",
    "                c = 0\n",
    "            \n",
    "        else:\n",
    "            if b and i < len(b):\n",
    "                gnew.append(b[i])\n",
    "            if a:\n",
    "                c = 1   \n",
    "            \n",
    "    return gnew\n",
    "\n",
    "def cross_over(g1, g2):\n",
    "    g3 = intersection(g1,g2)\n",
    "    g3 = shuffle(g1,g2,g3)\n",
    "    return g3\n",
    "\n",
    "\n",
    "def mutation(genome):\n",
    "\n",
    "    mutation = random.choice(all_lists)\n",
    "    if mutation in genome:\n",
    "        genome.remove(mutation)\n",
    "    else:\n",
    "        genome.append(mutation)\n",
    "\n",
    "    return genome\n",
    "\n",
    "def create_population(mu):\n",
    "    population = []\n",
    "    for i in range(mu):\n",
    "        g = []\n",
    "        while covering(g) != N:\n",
    "            if len(g) < N*2:\n",
    "                r = random.choice(all_lists)\n",
    "                if r not in g:\n",
    "                    g.append(r)\n",
    "            else:\n",
    "                g = []\n",
    "        population.append(g)\n",
    "    return [Individual(g, tuple((covering(g),-w(g)))) for g in population]"
   ]
  },
  {
   "cell_type": "code",
   "execution_count": null,
   "metadata": {},
   "outputs": [],
   "source": [
    "N = 1000\n",
    "all_lists = problem(N,seed=42)\n",
    "Individual = namedtuple(\"Individual\", [\"genome\", \"fitness\"])"
   ]
  },
  {
   "cell_type": "code",
   "execution_count": null,
   "metadata": {},
   "outputs": [],
   "source": [
    "mu = 2000\n",
    "GENERATIONS = 100\n",
    "OFFSPRINGS_SIZE = 1100\n",
    "population = create_population(mu)\n",
    "\n",
    "for g in range(GENERATIONS):\n",
    "    new_population = []\n",
    "    for _ in range(OFFSPRINGS_SIZE):\n",
    "        o = []\n",
    "        if random.random() < 0.001:\n",
    "            p = tournament(population)\n",
    "            o = mutation(p.genome)\n",
    "        else:\n",
    "            p1 = tournament(population)\n",
    "            p2 = tournament(population)\n",
    "            o = cross_over(p1.genome, p2.genome)\n",
    "        new_population.append(Individual(o, tuple((covering(o),-w(o)))))\n",
    "    population += new_population\n",
    "    population = sorted(population, key= lambda i : i.fitness, reverse=True)[:mu]\n",
    "\n",
    "print(f'w={w(population[0].genome)}, cov={covering(population[0].genome)}')\n"
   ]
  }
 ],
 "metadata": {
  "kernelspec": {
   "display_name": "Python 3.10.4 ('test-E5BHjMTj-py3.10')",
   "language": "python",
   "name": "python3"
  },
  "language_info": {
   "codemirror_mode": {
    "name": "ipython",
    "version": 3
   },
   "file_extension": ".py",
   "mimetype": "text/x-python",
   "name": "python",
   "nbconvert_exporter": "python",
   "pygments_lexer": "ipython3",
   "version": "3.10.4"
  },
  "orig_nbformat": 4,
  "vscode": {
   "interpreter": {
    "hash": "ab76f99a5ed0affabe50153cdd20f922949dbe9293bb1a7447138aec0448c889"
   }
  }
 },
 "nbformat": 4,
 "nbformat_minor": 2
}
