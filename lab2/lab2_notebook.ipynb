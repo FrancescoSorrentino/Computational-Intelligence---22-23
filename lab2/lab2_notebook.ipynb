{
 "cells": [
  {
   "cell_type": "markdown",
   "metadata": {},
   "source": [
    "# CI - Lab2"
   ]
  },
  {
   "cell_type": "code",
   "execution_count": 17,
   "metadata": {},
   "outputs": [],
   "source": [
    "import random\n",
    "import logging\n",
    "import numpy as np\n",
    "from collections import namedtuple"
   ]
  },
  {
   "cell_type": "code",
   "execution_count": null,
   "metadata": {},
   "outputs": [],
   "source": [
    "def problem(N, seed=None):\n",
    "    random.seed(seed)\n",
    "    return [\n",
    "        list(set(random.randint(0, N - 1) for n in range(random.randint(N // 5, N // 2))))\n",
    "        for n in range(random.randint(N, N * 5))\n",
    "    ]"
   ]
  },
  {
   "cell_type": "code",
   "execution_count": 127,
   "metadata": {},
   "outputs": [],
   "source": [
    "def tournament(population, tournament_size=2):\n",
    "    return max(random.choices(population, k=tournament_size), key=lambda i: i.fitness[1])\n",
    "\n",
    "def w(genome):\n",
    "    return sum(len(_) for _ in genome)\n",
    "\n",
    "def covering(genome):\n",
    "    s = set()\n",
    "    for _ in genome:\n",
    "       s =  s.union(set(_))\n",
    "    return len(s)\n",
    "\n",
    "def cross_over(g1, g2):\n",
    "    cut = random.randint(0, N)\n",
    "    return g1[:cut] + g2[cut:]\n",
    "\n",
    "\n",
    "def mutation(g):\n",
    "    point = random.randint(0, N - 1)\n",
    "    g[point] = random.choice(all_lists)\n",
    "    return g"
   ]
  },
  {
   "cell_type": "code",
   "execution_count": 128,
   "metadata": {},
   "outputs": [],
   "source": [
    "N = 10\n",
    "all_lists = problem(N,seed=42)\n",
    "Individual = namedtuple(\"Individual\", [\"genome\", \"fitness\"])"
   ]
  },
  {
   "cell_type": "code",
   "execution_count": 129,
   "metadata": {},
   "outputs": [
    {
     "name": "stdout",
     "output_type": "stream",
     "text": [
      "w=23, cov=10\n"
     ]
    }
   ],
   "source": [
    "mu = 100\n",
    "GENERATIONS = 10\n",
    "\n",
    "\n",
    "population =  [random.choices(all_lists, k=N) for i in range(mu)]\n",
    "population = [Individual(g, tuple((w(g),covering(g)))) for g in population]\n",
    "OFFSPRINGS_SIZE = 20\n",
    "\n",
    "for g in range(GENERATIONS):\n",
    "    new_population = []\n",
    "    for _ in range(OFFSPRINGS_SIZE):\n",
    "        o = []\n",
    "        if random.random() < 0.3:\n",
    "            p = tournament(population)\n",
    "            o = mutation(p.genome)\n",
    "        else:\n",
    "            p1 = tournament(population)\n",
    "            p2 = tournament(population)\n",
    "            o = cross_over(p1.genome, p2.genome)\n",
    "        new_population.append(Individual(o, tuple((w(o),covering(o)))))\n",
    "    population += new_population\n",
    "    population = sorted(population, key= lambda i : i.fitness[1], reverse=True)[:mu]\n",
    "\n",
    "print(f'w={w(population[0].genome)}, cov={covering(population[0].genome)}')\n"
   ]
  }
 ],
 "metadata": {
  "kernelspec": {
   "display_name": "Python 3.10.4 ('test-E5BHjMTj-py3.10')",
   "language": "python",
   "name": "python3"
  },
  "language_info": {
   "codemirror_mode": {
    "name": "ipython",
    "version": 3
   },
   "file_extension": ".py",
   "mimetype": "text/x-python",
   "name": "python",
   "nbconvert_exporter": "python",
   "pygments_lexer": "ipython3",
   "version": "3.10.4"
  },
  "orig_nbformat": 4,
  "vscode": {
   "interpreter": {
    "hash": "ab76f99a5ed0affabe50153cdd20f922949dbe9293bb1a7447138aec0448c889"
   }
  }
 },
 "nbformat": 4,
 "nbformat_minor": 2
}
