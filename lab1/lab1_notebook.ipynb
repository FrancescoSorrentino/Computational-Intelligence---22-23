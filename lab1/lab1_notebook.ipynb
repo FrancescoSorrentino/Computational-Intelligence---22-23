{
 "cells": [
  {
   "cell_type": "markdown",
   "metadata": {},
   "source": [
    "# CI - lab1 "
   ]
  },
  {
   "cell_type": "code",
   "execution_count": null,
   "metadata": {},
   "outputs": [],
   "source": [
    "import random\n",
    "import logging\n",
    "from random import seed, choice\n",
    "from typing import Callable\n",
    "import numpy as np\n",
    "from gx_utils import *\n",
    "\n",
    "logging.basicConfig(format=\"%(message)s\", level=logging.INFO)"
   ]
  },
  {
   "cell_type": "code",
   "execution_count": null,
   "metadata": {},
   "outputs": [],
   "source": [
    "def problem(N, seed=None):\n",
    "    random.seed(seed)\n",
    "    return [\n",
    "        list(set(random.randint(0, N - 1) for n in range(random.randint(N // 5, N // 2))))\n",
    "        for n in range(random.randint(N, N * 5))\n",
    "    ]"
   ]
  },
  {
   "cell_type": "code",
   "execution_count": null,
   "metadata": {},
   "outputs": [],
   "source": [
    "class State:\n",
    "    def __init__(self, data: np.array):\n",
    "        self._data = data.copy()\n",
    "        self._data.flags.writeable = False\n",
    "\n",
    "    def __hash__(self):\n",
    "        return hash(bytes(self._data))\n",
    "\n",
    "    def __eq__(self, other):\n",
    "        return bytes(self._data) == bytes(other._data)\n",
    "\n",
    "    def __lt__(self, other):\n",
    "        return bytes(self._data) < bytes(other._data)\n",
    "\n",
    "    def __str__(self):\n",
    "        return str(self._data)\n",
    "\n",
    "    def __repr__(self):\n",
    "        return repr(self._data)\n",
    "\n",
    "    @property\n",
    "    def data(self):\n",
    "        return self._data\n",
    "\n",
    "    def copy_data(self):\n",
    "        return self._data.copy()"
   ]
  },
  {
   "cell_type": "code",
   "execution_count": null,
   "metadata": {},
   "outputs": [],
   "source": [
    "def search(\n",
    "    initial_state: State,\n",
    "    goal_test: Callable,\n",
    "    parent_state: dict,\n",
    "    state_cost: dict,\n",
    "    priority_function: Callable,\n",
    "    unit_cost: Callable,\n",
    "    all_list: list\n",
    "):\n",
    "    frontier = PriorityQueue()\n",
    "    parent_state.clear()\n",
    "    state_cost.clear()\n",
    "\n",
    "    state = initial_state\n",
    "    parent_state[state] = None\n",
    "    state_cost[state] = 0\n",
    "    nodes = 1\n",
    "\n",
    "    while state is not None and not goal_test(state):\n",
    "        for a in all_list:\n",
    "            if a in state.copy_data():\n",
    "                continue\n",
    "            new_state = result(state, a)\n",
    "            cost = unit_cost(a)\n",
    "            if new_state not in state_cost and new_state not in frontier:\n",
    "                parent_state[new_state] = state\n",
    "                state_cost[new_state] = state_cost[state] + cost\n",
    "                frontier.push(new_state, p=priority_function(new_state))\n",
    "                logging.debug(f\"Added new node to frontier (cost={state_cost[new_state]})\")\n",
    "            elif new_state in frontier and state_cost[new_state] > state_cost[state] + cost:\n",
    "                old_cost = state_cost[new_state]\n",
    "                parent_state[new_state] = state\n",
    "                state_cost[new_state] = state_cost[state] + cost\n",
    "                logging.debug(f\"Updated node cost in frontier: {old_cost} -> {state_cost[new_state]}\")\n",
    "        if frontier:\n",
    "            state = frontier.pop()\n",
    "            nodes += 1\n",
    "        else:\n",
    "            state = None\n",
    "\n",
    "    path = list()\n",
    "    s = state\n",
    " \n",
    "    while s:\n",
    "        path.append(s.copy_data())\n",
    "        s = parent_state[s]\n",
    "\n",
    "\n",
    "    logging.info(f\"Found a solution in {len(path):,} steps; visited {len(state_cost):,} states; w = {sum(len(_) for _ in path[0])}; nodes processed = {nodes}\")\n",
    "    return list(reversed(path))"
   ]
  },
  {
   "cell_type": "code",
   "execution_count": null,
   "metadata": {},
   "outputs": [],
   "source": [
    "def goal_test(state):\n",
    "    #check if the goal is reached: if the two set are equal (have the same numbers) then it's ok!\n",
    "    x = number_set(state)\n",
    "    return x == set(GOAL.copy_data().tolist())\n",
    "\n",
    "def result(state, tuple):\n",
    "    data = state.copy_data()\n",
    "    a = data.tolist()\n",
    "    a.append(tuple)\n",
    "    s = State(np.asarray(a))\n",
    "    return s\n",
    "\n",
    "def number_set(x):\n",
    "    #compute the set of number in the sequence.\n",
    "    y=set(range(0))\n",
    "    for _ in x._data.tolist():\n",
    "        if type(_) == list :\n",
    "            y = y.union(_)\n",
    "        else:\n",
    "            y = y.add(_)\n",
    "\n",
    "    return y"
   ]
  },
  {
   "cell_type": "code",
   "execution_count": null,
   "metadata": {},
   "outputs": [],
   "source": [
    "N= 1000\n",
    "GOAL = State(np.array(range(N)))\n",
    "all_list = sorted(problem(N, seed=42), key= lambda s: len(s))\n",
    "INITIAL_STATE = State(np.asarray([all_list[0]]))"
   ]
  },
  {
   "cell_type": "markdown",
   "metadata": {},
   "source": [
    "## A* + cost = len(a)"
   ]
  },
  {
   "cell_type": "code",
   "execution_count": null,
   "metadata": {},
   "outputs": [],
   "source": [
    "parent_state = dict()\n",
    "state_cost = dict()\n",
    "\n",
    "\n",
    "def h(state):\n",
    "    return len(range(N)) - len(number_set(state))\n",
    "\n",
    "\n",
    "final = search(\n",
    "    INITIAL_STATE,\n",
    "    goal_test=goal_test,\n",
    "    parent_state=parent_state,\n",
    "    state_cost=state_cost,\n",
    "    priority_function=lambda s: state_cost[s] + h(s),\n",
    "    unit_cost=lambda a: len(a),\n",
    "    all_list=all_list,\n",
    ")\n",
    "\n",
    "print(final[-1])"
   ]
  },
  {
   "cell_type": "markdown",
   "metadata": {},
   "source": [
    "## A* + cost = 1"
   ]
  },
  {
   "cell_type": "code",
   "execution_count": null,
   "metadata": {},
   "outputs": [],
   "source": [
    "parent_state = dict()\n",
    "state_cost = dict()\n",
    "\n",
    "\n",
    "def h(state):\n",
    "    return len(range(N)) - len(number_set(state))\n",
    "\n",
    "\n",
    "final = search(\n",
    "    INITIAL_STATE,\n",
    "    goal_test=goal_test,\n",
    "    parent_state=parent_state,\n",
    "    state_cost=state_cost,\n",
    "    priority_function=lambda s: state_cost[s] + h(s),\n",
    "    unit_cost=lambda a: 1,\n",
    "    all_list=all_list,\n",
    ")\n",
    "\n",
    "print(final[-1])"
   ]
  }
 ],
 "metadata": {
  "kernelspec": {
   "display_name": "Python 3.10.4 ('test-E5BHjMTj-py3.10')",
   "language": "python",
   "name": "python3"
  },
  "language_info": {
   "codemirror_mode": {
    "name": "ipython",
    "version": 3
   },
   "file_extension": ".py",
   "mimetype": "text/x-python",
   "name": "python",
   "nbconvert_exporter": "python",
   "pygments_lexer": "ipython3",
   "version": "3.10.4"
  },
  "orig_nbformat": 4,
  "vscode": {
   "interpreter": {
    "hash": "ab76f99a5ed0affabe50153cdd20f922949dbe9293bb1a7447138aec0448c889"
   }
  }
 },
 "nbformat": 4,
 "nbformat_minor": 2
}
