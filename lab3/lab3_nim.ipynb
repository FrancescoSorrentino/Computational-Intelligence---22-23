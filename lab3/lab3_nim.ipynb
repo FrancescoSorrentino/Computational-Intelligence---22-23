{
 "cells": [
  {
   "cell_type": "markdown",
   "metadata": {
    "collapsed": false,
    "pycharm": {
     "name": "#%% md\n"
    }
   },
   "source": [
    "# Lab 3: Policy Search\n",
    "\n",
    "## Task\n",
    "\n",
    "Write agents able to play [*Nim*](https://en.wikipedia.org/wiki/Nim), with an arbitrary number of rows and an upper bound $k$ on the number of objects that can be removed in a turn (a.k.a., *subtraction game*).\n",
    "\n",
    "The player **taking the last object wins**.\n",
    "\n",
    "* Task3.1: An agent using fixed rules based on *nim-sum* (i.e., an *expert system*)\n",
    "* Task3.2: An agent using evolved rules\n",
    "* Task3.3: An agent using minmax\n",
    "* Task3.4: An agent using reinforcement learning"
   ]
  },
  {
   "cell_type": "code",
   "execution_count": 235,
   "metadata": {
    "pycharm": {
     "name": "#%%\n"
    }
   },
   "outputs": [],
   "source": [
    "import logging\n",
    "from collections import namedtuple\n",
    "import random\n",
    "from typing import Callable\n",
    "from copy import deepcopy\n",
    "from itertools import accumulate\n",
    "from operator import xor"
   ]
  },
  {
   "cell_type": "markdown",
   "metadata": {
    "pycharm": {
     "name": "#%% md\n"
    }
   },
   "source": [
    "## The *Nim* and *Nimply* classes"
   ]
  },
  {
   "cell_type": "code",
   "execution_count": 236,
   "metadata": {
    "pycharm": {
     "name": "#%%\n"
    }
   },
   "outputs": [],
   "source": [
    "Nimply = namedtuple(\"Nimply\", \"row, num_objects\")"
   ]
  },
  {
   "cell_type": "code",
   "execution_count": 237,
   "metadata": {
    "pycharm": {
     "name": "#%%\n"
    }
   },
   "outputs": [],
   "source": [
    "class Nim:\n",
    "    def __init__(self, num_rows: int, k: int = None) -> None:\n",
    "        self._rows = [i * 2 + 1 for i in range(num_rows)]\n",
    "        self._k = k\n",
    "\n",
    "    def __bool__(self):\n",
    "        return sum(self._rows) > 0\n",
    "\n",
    "    def __str__(self):\n",
    "        return \"<\" + \" \".join(str(_) for _ in self._rows) + \">\"\n",
    "\n",
    "    @property\n",
    "    def rows(self) -> tuple:\n",
    "        return tuple(self._rows)\n",
    "\n",
    "    @property\n",
    "    def k(self) -> int:\n",
    "        return self._k\n",
    "\n",
    "    def nimming(self, ply: Nimply) -> None:\n",
    "        row, num_objects = ply\n",
    "        assert self._rows[row] >= num_objects\n",
    "        assert self._k is None or num_objects <= self._k\n",
    "        self._rows[row] -= num_objects"
   ]
  },
  {
   "cell_type": "markdown",
   "metadata": {
    "pycharm": {
     "name": "#%% md\n"
    }
   },
   "source": [
    "## Sample (and silly) startegies "
   ]
  },
  {
   "cell_type": "code",
   "execution_count": 238,
   "metadata": {
    "pycharm": {
     "name": "#%%\n"
    }
   },
   "outputs": [],
   "source": [
    "def pure_random(state: Nim) -> Nimply:\n",
    "    row = random.choice([r for r, c in enumerate(state.rows) if c > 0])\n",
    "    num_objects = random.randint(1, state.rows[row])\n",
    "    return Nimply(row, num_objects)"
   ]
  },
  {
   "cell_type": "code",
   "execution_count": 239,
   "metadata": {
    "pycharm": {
     "name": "#%%\n"
    }
   },
   "outputs": [],
   "source": [
    "def gabriele(state: Nim) -> Nimply:\n",
    "    \"\"\"Pick always the maximum possible number of the lowest row\"\"\"\n",
    "    possible_moves = [(r, o) for r, c in enumerate(state.rows) for o in range(1, c + 1)]\n",
    "    return Nimply(*max(possible_moves, key=lambda m: (-m[0], m[1])))"
   ]
  },
  {
   "cell_type": "code",
   "execution_count": 240,
   "metadata": {
    "pycharm": {
     "name": "#%%\n"
    }
   },
   "outputs": [],
   "source": [
    "def nim_sum(state: Nim) -> int:\n",
    "    *_, result = accumulate(state.rows, xor)\n",
    "    return result\n",
    "\n",
    "\n",
    "def cook_status(state: Nim) -> dict:\n",
    "    cooked = dict()\n",
    "    cooked[\"possible_moves\"] = [\n",
    "        (r, o) for r, c in enumerate(state.rows) for o in range(1, c + 1) if state.k is None or o <= state.k\n",
    "    ]\n",
    "    cooked[\"active_rows_number\"] = sum(o > 0 for o in state.rows)\n",
    "    cooked[\"shortest_row\"] = min((x for x in enumerate(state.rows) if x[1] > 0), key=lambda y: y[1])[0]\n",
    "    cooked[\"longest_row\"] = max((x for x in enumerate(state.rows)), key=lambda y: y[1])[0]\n",
    "    cooked[\"nim_sum\"] = nim_sum(state)\n",
    "\n",
    "    brute_force = list()\n",
    "    for m in cooked[\"possible_moves\"]:\n",
    "        tmp = deepcopy(state)\n",
    "        tmp.nimming(m)\n",
    "        brute_force.append((m, nim_sum(tmp)))\n",
    "    cooked[\"brute_force\"] = brute_force\n",
    "\n",
    "    return cooked"
   ]
  },
  {
   "cell_type": "code",
   "execution_count": 241,
   "metadata": {
    "pycharm": {
     "name": "#%%\n"
    }
   },
   "outputs": [],
   "source": [
    "def optimal_strategy(state: Nim) -> Nimply:\n",
    "    data = cook_status(state)\n",
    "    return next((bf for bf in data[\"brute_force\"] if bf[1] == 0), random.choice(data[\"brute_force\"]))[0]"
   ]
  },
  {
   "cell_type": "code",
   "execution_count": 242,
   "metadata": {
    "pycharm": {
     "name": "#%%\n"
    }
   },
   "outputs": [],
   "source": [
    "def make_strategy(genome: dict) -> Callable:\n",
    "    def evolvable(state: Nim) -> Nimply:\n",
    "        data = cook_status(state)\n",
    "\n",
    "        if random.random() < genome[\"p\"]:\n",
    "            ply = Nimply(data[\"shortest_row\"], random.randint(1, state.rows[data[\"shortest_row\"]]))\n",
    "        else:\n",
    "            ply = Nimply(data[\"longest_row\"], random.randint(1, state.rows[data[\"longest_row\"]]))\n",
    "\n",
    "        return ply\n",
    "\n",
    "    return evolvable"
   ]
  },
  {
   "cell_type": "markdown",
   "metadata": {},
   "source": [
    "## Task 3.1: Expert System"
   ]
  },
  {
   "cell_type": "code",
   "execution_count": 243,
   "metadata": {},
   "outputs": [],
   "source": [
    "def solution(state: Nim):\n",
    "    #It works really well with k = None\n",
    "    x = nim_sum(state)\n",
    "    next_state = [r ^ x for r in state.rows ]\n",
    "    _min = next_state.index(min(next_state))\n",
    "    if state.k:\n",
    "        return _min, min(state.rows[_min] - next_state[_min], state.k-1)\n",
    "    else:\n",
    "        return _min, state.rows[_min] - next_state[_min]\n",
    "\n",
    "def the_optimal_destroyer(state: Nim) -> Nimply:\n",
    "    _row = 0\n",
    "    _objects = 0\n",
    "    if state.k:\n",
    "        k_rows = [(i,(r%(state.k+1))) for i,r in enumerate(state.rows) if r % (state.k + 1)]\n",
    "        if k_rows:\n",
    "            _min = k_rows.index(min(k_rows, key = lambda a: a[1]))\n",
    "            _row = k_rows[_min][0]\n",
    "            _objects = min(k_rows[_min][1], state.k)\n",
    "        else:\n",
    "            _row, _objects = solution(state)\n",
    "    else: _row, _objects = solution(state)\n",
    "    return Nimply(_row, _objects)\n",
    "\n",
    "\n"
   ]
  },
  {
   "cell_type": "markdown",
   "metadata": {},
   "source": [
    "## Evaluation of the Agent"
   ]
  },
  {
   "cell_type": "code",
   "execution_count": 244,
   "metadata": {
    "pycharm": {
     "name": "#%%\n"
    }
   },
   "outputs": [],
   "source": [
    "NUM_MATCHES = 10\n",
    "NIM_SIZE = 10\n",
    "\n",
    "\n",
    "def evaluate(strategy: Callable) -> float:\n",
    "    opponent = (strategy, optimal_strategy)\n",
    "    won = 0\n",
    "\n",
    "    for m in range(NUM_MATCHES):\n",
    "        nim = Nim(NIM_SIZE)\n",
    "        player = 0\n",
    "        while nim:\n",
    "            ply = opponent[player](nim)\n",
    "            nim.nimming(ply)\n",
    "            player = 1 - player\n",
    "        if player == 1:\n",
    "            won += 1\n",
    "    return won / NUM_MATCHES"
   ]
  },
  {
   "cell_type": "code",
   "execution_count": 245,
   "metadata": {
    "collapsed": false,
    "pycharm": {
     "name": "#%%\n"
    }
   },
   "outputs": [
    {
     "data": {
      "text/plain": [
       "1.0"
      ]
     },
     "execution_count": 245,
     "metadata": {},
     "output_type": "execute_result"
    }
   ],
   "source": [
    "evaluate(the_optimal_destroyer)"
   ]
  },
  {
   "cell_type": "markdown",
   "metadata": {
    "pycharm": {
     "name": "#%% md\n"
    }
   },
   "source": [
    "## Oversimplified match"
   ]
  },
  {
   "cell_type": "code",
   "execution_count": 249,
   "metadata": {
    "pycharm": {
     "name": "#%%\n"
    }
   },
   "outputs": [
    {
     "name": "stderr",
     "output_type": "stream",
     "text": [
      "DEBUG:root:status: Initial board  -> <1 3 5 7 9 11 13 15 17 19 21>\n",
      "DEBUG:root:status: After player 0 -> <1 3 5 7 7 11 13 15 17 19 21>\n",
      "DEBUG:root:status: After player 1 -> <0 3 5 7 7 11 13 15 17 19 21>\n",
      "DEBUG:root:status: After player 0 -> <0 3 5 7 7 11 13 15 17 15 21>\n",
      "DEBUG:root:status: After player 1 -> <0 3 5 6 7 11 13 15 17 15 21>\n",
      "DEBUG:root:status: After player 0 -> <0 3 0 6 7 11 13 15 17 15 21>\n",
      "DEBUG:root:status: After player 1 -> <0 3 0 6 6 11 13 15 17 15 21>\n",
      "DEBUG:root:status: After player 0 -> <0 2 0 6 6 11 13 15 17 15 21>\n",
      "DEBUG:root:status: After player 1 -> <0 2 0 6 6 11 12 15 17 15 21>\n",
      "DEBUG:root:status: After player 0 -> <0 2 0 6 6 10 12 15 17 15 21>\n",
      "DEBUG:root:status: After player 1 -> <0 0 0 6 6 10 12 15 17 15 21>\n",
      "DEBUG:root:status: After player 0 -> <0 0 0 4 6 10 12 15 17 15 21>\n",
      "DEBUG:root:status: After player 1 -> <0 0 0 4 6 10 12 12 17 15 21>\n",
      "DEBUG:root:status: After player 0 -> <0 0 0 4 5 10 12 12 17 15 21>\n",
      "DEBUG:root:status: After player 1 -> <0 0 0 4 5 10 12 12 17 12 21>\n",
      "DEBUG:root:status: After player 0 -> <0 0 0 4 5 9 12 12 17 12 21>\n",
      "DEBUG:root:status: After player 1 -> <0 0 0 4 5 6 12 12 17 12 21>\n",
      "DEBUG:root:status: After player 0 -> <0 0 0 2 5 6 12 12 17 12 21>\n",
      "DEBUG:root:status: After player 1 -> <0 0 0 0 5 6 12 12 17 12 21>\n",
      "DEBUG:root:status: After player 0 -> <0 0 0 0 5 6 7 12 17 12 21>\n",
      "DEBUG:root:status: After player 1 -> <0 0 0 0 5 6 6 12 17 12 21>\n",
      "DEBUG:root:status: After player 0 -> <0 0 0 0 4 6 6 12 17 12 21>\n",
      "DEBUG:root:status: After player 1 -> <0 0 0 0 4 6 6 12 17 12 18>\n",
      "DEBUG:root:status: After player 0 -> <0 0 0 0 3 6 6 12 17 12 18>\n",
      "DEBUG:root:status: After player 1 -> <0 0 0 0 0 6 6 12 17 12 18>\n",
      "DEBUG:root:status: After player 0 -> <0 0 0 0 0 5 6 12 17 12 18>\n",
      "DEBUG:root:status: After player 1 -> <0 0 0 0 0 0 6 12 17 12 18>\n",
      "DEBUG:root:status: After player 0 -> <0 0 0 0 0 0 3 12 17 12 18>\n",
      "DEBUG:root:status: After player 1 -> <0 0 0 0 0 0 0 12 17 12 18>\n",
      "DEBUG:root:status: After player 0 -> <0 0 0 0 0 0 0 12 17 12 17>\n",
      "DEBUG:root:status: After player 1 -> <0 0 0 0 0 0 0 12 12 12 17>\n",
      "DEBUG:root:status: After player 0 -> <0 0 0 0 0 0 0 12 12 12 12>\n",
      "DEBUG:root:status: After player 1 -> <0 0 0 0 0 0 0 12 12 12 12>\n",
      "DEBUG:root:status: After player 0 -> <0 0 0 0 0 0 0 12 12 12 10>\n",
      "DEBUG:root:status: After player 1 -> <0 0 0 0 0 0 0 12 12 12 6>\n",
      "DEBUG:root:status: After player 0 -> <0 0 0 0 0 0 0 12 12 7 6>\n",
      "DEBUG:root:status: After player 1 -> <0 0 0 0 0 0 0 12 12 6 6>\n",
      "DEBUG:root:status: After player 0 -> <0 0 0 0 0 0 0 12 12 6 1>\n",
      "DEBUG:root:status: After player 1 -> <0 0 0 0 0 0 0 12 12 6 0>\n",
      "DEBUG:root:status: After player 0 -> <0 0 0 0 0 0 0 10 12 6 0>\n",
      "DEBUG:root:status: After player 1 -> <0 0 0 0 0 0 0 6 12 6 0>\n",
      "DEBUG:root:status: After player 0 -> <0 0 0 0 0 0 0 4 12 6 0>\n",
      "DEBUG:root:status: After player 1 -> <0 0 0 0 0 0 0 0 12 6 0>\n",
      "DEBUG:root:status: After player 0 -> <0 0 0 0 0 0 0 0 8 6 0>\n",
      "DEBUG:root:status: After player 1 -> <0 0 0 0 0 0 0 0 6 6 0>\n",
      "DEBUG:root:status: After player 0 -> <0 0 0 0 0 0 0 0 4 6 0>\n",
      "DEBUG:root:status: After player 1 -> <0 0 0 0 0 0 0 0 0 6 0>\n",
      "DEBUG:root:status: After player 0 -> <0 0 0 0 0 0 0 0 0 3 0>\n",
      "DEBUG:root:status: After player 1 -> <0 0 0 0 0 0 0 0 0 0 0>\n",
      "INFO:root:status: Player 1 won!\n"
     ]
    }
   ],
   "source": [
    "logging.getLogger().setLevel(logging.DEBUG)\n",
    "\n",
    "strategy = (optimal_strategy, the_optimal_destroyer)\n",
    "\n",
    "nim = Nim(11,5)\n",
    "logging.debug(f\"status: Initial board  -> {nim}\")\n",
    "player = 0\n",
    "while nim:\n",
    "    ply = strategy[player](nim)\n",
    "    nim.nimming(ply)\n",
    "    logging.debug(f\"status: After player {player} -> {nim}\")\n",
    "    player = 1 - player\n",
    "winner = 1 - player\n",
    "logging.info(f\"status: Player {winner} won!\")"
   ]
  }
 ],
 "metadata": {
  "kernelspec": {
   "display_name": "Python 3.10.4 ('test-E5BHjMTj-py3.10')",
   "language": "python",
   "name": "python3"
  },
  "language_info": {
   "codemirror_mode": {
    "name": "ipython",
    "version": 3
   },
   "file_extension": ".py",
   "mimetype": "text/x-python",
   "name": "python",
   "nbconvert_exporter": "python",
   "pygments_lexer": "ipython3",
   "version": "3.10.4"
  },
  "vscode": {
   "interpreter": {
    "hash": "ab76f99a5ed0affabe50153cdd20f922949dbe9293bb1a7447138aec0448c889"
   }
  }
 },
 "nbformat": 4,
 "nbformat_minor": 2
}
